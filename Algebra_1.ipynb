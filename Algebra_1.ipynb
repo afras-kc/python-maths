{
  "nbformat": 4,
  "nbformat_minor": 0,
  "metadata": {
    "colab": {
      "name": "Algebra-1.ipynb",
      "provenance": [],
      "toc_visible": true,
      "authorship_tag": "ABX9TyPRufYOPThKdlEfvxHCAu7B",
      "include_colab_link": true
    },
    "kernelspec": {
      "name": "python3",
      "display_name": "Python 3"
    }
  },
  "cells": [
    {
      "cell_type": "markdown",
      "metadata": {
        "id": "view-in-github",
        "colab_type": "text"
      },
      "source": [
        "<a href=\"https://colab.research.google.com/github/afras-kc/python-maths/blob/main/Algebra_1.ipynb\" target=\"_parent\"><img src=\"https://colab.research.google.com/assets/colab-badge.svg\" alt=\"Open In Colab\"/></a>"
      ]
    },
    {
      "cell_type": "markdown",
      "metadata": {
        "id": "iyQ4tnjWjRWn"
      },
      "source": [
        "#Python Arithmetic"
      ]
    },
    {
      "cell_type": "code",
      "metadata": {
        "colab": {
          "base_uri": "https://localhost:8080/"
        },
        "id": "BFkj73LjjeoD",
        "outputId": "5cc18e7a-3bfc-442d-8fc0-9dc5fc09f83e"
      },
      "source": [
        "20 + 123"
      ],
      "execution_count": null,
      "outputs": [
        {
          "output_type": "execute_result",
          "data": {
            "text/plain": [
              "143"
            ]
          },
          "metadata": {
            "tags": []
          },
          "execution_count": 6
        }
      ]
    },
    {
      "cell_type": "code",
      "metadata": {
        "colab": {
          "base_uri": "https://localhost:8080/"
        },
        "id": "LppcxSt7jltd",
        "outputId": "9c8ad417-a7c1-4910-82a9-c1c7f91a3c18"
      },
      "source": [
        "2 * 44"
      ],
      "execution_count": null,
      "outputs": [
        {
          "output_type": "execute_result",
          "data": {
            "text/plain": [
              "88"
            ]
          },
          "metadata": {
            "tags": []
          },
          "execution_count": 7
        }
      ]
    },
    {
      "cell_type": "code",
      "metadata": {
        "colab": {
          "base_uri": "https://localhost:8080/"
        },
        "id": "j3Rg53A7joxB",
        "outputId": "e94ad034-f58c-4a1e-b777-bfe0a4fa253b"
      },
      "source": [
        "(34 // 3) * 23"
      ],
      "execution_count": null,
      "outputs": [
        {
          "output_type": "execute_result",
          "data": {
            "text/plain": [
              "253"
            ]
          },
          "metadata": {
            "tags": []
          },
          "execution_count": 9
        }
      ]
    },
    {
      "cell_type": "code",
      "metadata": {
        "colab": {
          "base_uri": "https://localhost:8080/"
        },
        "id": "oIYrAxLkj1zX",
        "outputId": "df07f070-a918-4443-d3de-00a855446463"
      },
      "source": [
        "5 - (2 / 4) * (3 / 5)"
      ],
      "execution_count": null,
      "outputs": [
        {
          "output_type": "execute_result",
          "data": {
            "text/plain": [
              "4.7"
            ]
          },
          "metadata": {
            "tags": []
          },
          "execution_count": 10
        }
      ]
    },
    {
      "cell_type": "code",
      "metadata": {
        "colab": {
          "base_uri": "https://localhost:8080/"
        },
        "id": "IBmvleCIkBjK",
        "outputId": "119b1a06-7d4c-4a0e-8842-4d9e206343ef"
      },
      "source": [
        "(4 - 5) / (3 + 5 * 6)"
      ],
      "execution_count": null,
      "outputs": [
        {
          "output_type": "execute_result",
          "data": {
            "text/plain": [
              "-0.030303030303030304"
            ]
          },
          "metadata": {
            "tags": []
          },
          "execution_count": 11
        }
      ]
    },
    {
      "cell_type": "markdown",
      "metadata": {
        "id": "z-9pnSkFkTWY"
      },
      "source": [
        "### Variables in Python"
      ]
    },
    {
      "cell_type": "code",
      "metadata": {
        "colab": {
          "base_uri": "https://localhost:8080/"
        },
        "id": "KITjhgkJkbDV",
        "outputId": "1265b802-c63a-4cd7-bc34-ebe1c37cd07f"
      },
      "source": [
        "x = 23\n",
        "x / 2"
      ],
      "execution_count": null,
      "outputs": [
        {
          "output_type": "execute_result",
          "data": {
            "text/plain": [
              "11.5"
            ]
          },
          "metadata": {
            "tags": []
          },
          "execution_count": 12
        }
      ]
    },
    {
      "cell_type": "code",
      "metadata": {
        "colab": {
          "base_uri": "https://localhost:8080/"
        },
        "id": "RmpHiYHpkg7v",
        "outputId": "4cb54a1a-b51d-463c-85fe-632bc5e1af15"
      },
      "source": [
        " x, y, z = 7, -2, 5\n",
        " print(3 * x * (4 + y))\n",
        " print(-y - (x + 3) / z)"
      ],
      "execution_count": null,
      "outputs": [
        {
          "output_type": "stream",
          "text": [
            "42\n",
            "0.0\n"
          ],
          "name": "stdout"
        }
      ]
    },
    {
      "cell_type": "code",
      "metadata": {
        "colab": {
          "base_uri": "https://localhost:8080/",
          "height": 35
        },
        "id": "89-dAEhUls_b",
        "outputId": "4ec594ba-3e7e-4d5b-da01-5a8ee55840a0"
      },
      "source": [
        "from IPython.display import display, Math\n",
        "\n",
        "display('20 + 10 = 30')"
      ],
      "execution_count": null,
      "outputs": [
        {
          "output_type": "display_data",
          "data": {
            "application/vnd.google.colaboratory.intrinsic+json": {
              "type": "string"
            },
            "text/plain": [
              "'20 + 10 = 30'"
            ]
          },
          "metadata": {
            "tags": []
          }
        }
      ]
    },
    {
      "cell_type": "code",
      "metadata": {
        "colab": {
          "base_uri": "https://localhost:8080/",
          "height": 35
        },
        "id": "eWHTGIZGnUad",
        "outputId": "9e6b2ff8-d21a-480b-e206-ba393dfee9c8"
      },
      "source": [
        "display('23 + 7 = ' + str(23 + 7))"
      ],
      "execution_count": null,
      "outputs": [
        {
          "output_type": "display_data",
          "data": {
            "application/vnd.google.colaboratory.intrinsic+json": {
              "type": "string"
            },
            "text/plain": [
              "'23 + 7 = 30'"
            ]
          },
          "metadata": {
            "tags": []
          }
        }
      ]
    },
    {
      "cell_type": "code",
      "metadata": {
        "colab": {
          "base_uri": "https://localhost:8080/",
          "height": 37
        },
        "id": "ZrPfT3SZoyW9",
        "outputId": "4c094460-f686-41da-bf35-3061c9b8d038"
      },
      "source": [
        "x, y = 4, 9\n",
        "display(Math('%g+%g=%g' %(x,y,x+y)))"
      ],
      "execution_count": null,
      "outputs": [
        {
          "output_type": "display_data",
          "data": {
            "text/latex": "$$4+9=13$$",
            "text/plain": [
              "<IPython.core.display.Math object>"
            ]
          },
          "metadata": {
            "tags": []
          }
        }
      ]
    },
    {
      "cell_type": "code",
      "metadata": {
        "colab": {
          "base_uri": "https://localhost:8080/",
          "height": 38
        },
        "id": "k8JEjNlFqWMn",
        "outputId": "a100b5fc-0e49-45ce-a710-4e6a5ed47696"
      },
      "source": [
        "display(Math( '\\\\frac{4}{5} = .8' ))"
      ],
      "execution_count": null,
      "outputs": [
        {
          "output_type": "display_data",
          "data": {
            "text/latex": "$$\\frac{4}{5} = .8$$",
            "text/plain": [
              "<IPython.core.display.Math object>"
            ]
          },
          "metadata": {
            "tags": []
          }
        }
      ]
    },
    {
      "cell_type": "code",
      "metadata": {
        "colab": {
          "base_uri": "https://localhost:8080/",
          "height": 58
        },
        "id": "hq6gxWpbvfnV",
        "outputId": "e9c37e8f-7682-415e-8572-cef0463464be"
      },
      "source": [
        "x, y, z = 7, -2, 5\n",
        "\n",
        "ans = 3 * x * (4 + y)\n",
        "display(Math('3x(4+y) = %g' %ans))\n",
        "display(Math('3 \\\\times %g(4+%g) = %g' %(x,y,ans)))"
      ],
      "execution_count": null,
      "outputs": [
        {
          "output_type": "display_data",
          "data": {
            "text/latex": "$$3x(4+y) = 42$$",
            "text/plain": [
              "<IPython.core.display.Math object>"
            ]
          },
          "metadata": {
            "tags": []
          }
        },
        {
          "output_type": "display_data",
          "data": {
            "text/latex": "$$3 \\times 7(4+-2) = 42$$",
            "text/plain": [
              "<IPython.core.display.Math object>"
            ]
          },
          "metadata": {
            "tags": []
          }
        }
      ]
    },
    {
      "cell_type": "code",
      "metadata": {
        "colab": {
          "base_uri": "https://localhost:8080/",
          "height": 59
        },
        "id": "XWh3IjrEyzy9",
        "outputId": "7298aa5e-4037-4336-fbe4-12d818d1437a"
      },
      "source": [
        "ans = -y - (x+3) / z\n",
        "\n",
        "display(Math('-y - \\\\frac{x+3}{z} = %g' %ans))\n",
        "display(Math('%g - \\\\frac{%g+3}{%g} = %g' %(y,x,z,ans)))"
      ],
      "execution_count": null,
      "outputs": [
        {
          "output_type": "display_data",
          "data": {
            "text/latex": "$$-y - \\frac{x+3}{z} = 0$$",
            "text/plain": [
              "<IPython.core.display.Math object>"
            ]
          },
          "metadata": {
            "tags": []
          }
        },
        {
          "output_type": "display_data",
          "data": {
            "text/latex": "$$-2 - \\frac{7+3}{5} = 0$$",
            "text/plain": [
              "<IPython.core.display.Math object>"
            ]
          },
          "metadata": {
            "tags": []
          }
        }
      ]
    },
    {
      "cell_type": "code",
      "metadata": {
        "colab": {
          "base_uri": "https://localhost:8080/",
          "height": 39
        },
        "id": "lUZRUFEr0BvA",
        "outputId": "20eb8781-3d20-46c9-b557-9a2f27dae1fa"
      },
      "source": [
        "display(Math(r'F(k) = \\int_{-\\infty}^{\\infty} f(x) e^{2\\pi i k} dx'))"
      ],
      "execution_count": null,
      "outputs": [
        {
          "output_type": "display_data",
          "data": {
            "text/latex": "$$F(k) = \\int_{-\\infty}^{\\infty} f(x) e^{2\\pi i k} dx$$",
            "text/plain": [
              "<IPython.core.display.Math object>"
            ]
          },
          "metadata": {
            "tags": []
          }
        }
      ]
    }
  ]
}