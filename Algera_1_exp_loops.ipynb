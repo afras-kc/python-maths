{
  "nbformat": 4,
  "nbformat_minor": 0,
  "metadata": {
    "colab": {
      "name": "Algera-1-exp-loops.ipynb",
      "provenance": [],
      "authorship_tag": "ABX9TyMiN21JDkQeWOY5Gm/v5f/C",
      "include_colab_link": true
    },
    "kernelspec": {
      "name": "python3",
      "display_name": "Python 3"
    }
  },
  "cells": [
    {
      "cell_type": "markdown",
      "metadata": {
        "id": "view-in-github",
        "colab_type": "text"
      },
      "source": [
        "<a href=\"https://colab.research.google.com/github/afras-kc/python-maths/blob/main/Algera_1_exp_loops.ipynb\" target=\"_parent\"><img src=\"https://colab.research.google.com/assets/colab-badge.svg\" alt=\"Open In Colab\"/></a>"
      ]
    },
    {
      "cell_type": "code",
      "metadata": {
        "colab": {
          "base_uri": "https://localhost:8080/"
        },
        "id": "cpqOzif50nNs",
        "outputId": "d5196ec5-b823-4fdb-f6de-7d0cfacf3abe"
      },
      "source": [
        "print('Hello, world!')"
      ],
      "execution_count": 1,
      "outputs": [
        {
          "output_type": "stream",
          "text": [
            "Hello, world!\n"
          ],
          "name": "stdout"
        }
      ]
    },
    {
      "cell_type": "code",
      "metadata": {
        "colab": {
          "base_uri": "https://localhost:8080/",
          "height": 40
        },
        "id": "BuMNfA6b26z2",
        "outputId": "c40b62b7-5c35-4184-8784-18ae7c18ecfb"
      },
      "source": [
        "from IPython.display import display, Math\n",
        "display(Math('\\\\frac{2+x}{12y} = 0'))"
      ],
      "execution_count": 3,
      "outputs": [
        {
          "output_type": "display_data",
          "data": {
            "text/latex": "$$\\frac{2+x}{12y} = 0$$",
            "text/plain": [
              "<IPython.core.display.Math object>"
            ]
          },
          "metadata": {
            "tags": []
          }
        }
      ]
    },
    {
      "cell_type": "code",
      "metadata": {
        "colab": {
          "base_uri": "https://localhost:8080/",
          "height": 37
        },
        "id": "_85ef1Hs3dpI",
        "outputId": "7209eb9b-af50-4bc6-ebac-da08b6cdad46"
      },
      "source": [
        "display(Math('3^2 \\\\times 3^4 = 3^{2+4}'))"
      ],
      "execution_count": 5,
      "outputs": [
        {
          "output_type": "display_data",
          "data": {
            "text/latex": "$$3^2 \\times 3^4 = 3^{2+4}$$",
            "text/plain": [
              "<IPython.core.display.Math object>"
            ]
          },
          "metadata": {
            "tags": []
          }
        }
      ]
    },
    {
      "cell_type": "markdown",
      "metadata": {
        "id": "fJgslAWk4Nky"
      },
      "source": [
        "#6 - Exponents - Exercises"
      ]
    },
    {
      "cell_type": "code",
      "metadata": {
        "colab": {
          "base_uri": "https://localhost:8080/",
          "height": 39
        },
        "id": "mIcmyY1U4Ul1",
        "outputId": "c8f89fb6-653b-4e29-a7c9-08f34363827c"
      },
      "source": [
        "x, y = 5, 5.1\n",
        "\n",
        "ans = (x**(3/4)) * (4**y)\n",
        "display(Math('x^{\\\\frac{3}{4}} \\\\times 4^y = %g' %ans))"
      ],
      "execution_count": 9,
      "outputs": [
        {
          "output_type": "display_data",
          "data": {
            "text/latex": "$$x^{\\frac{3}{4}} \\times 4^y = 3933.09$$",
            "text/plain": [
              "<IPython.core.display.Math object>"
            ]
          },
          "metadata": {
            "tags": []
          }
        }
      ]
    },
    {
      "cell_type": "code",
      "metadata": {
        "colab": {
          "base_uri": "https://localhost:8080/",
          "height": 40
        },
        "id": "Cn_1Wlkw5dIp",
        "outputId": "4d46555c-a7a8-47eb-cc49-0600c0373787"
      },
      "source": [
        "ans = (3**3) / (x**y)\n",
        "display(Math('\\\\frac{3^3}{x^y} = %g' %ans))"
      ],
      "execution_count": 10,
      "outputs": [
        {
          "output_type": "display_data",
          "data": {
            "text/latex": "$$\\frac{3^3}{x^y} = 0.00735558$$",
            "text/plain": [
              "<IPython.core.display.Math object>"
            ]
          },
          "metadata": {
            "tags": []
          }
        }
      ]
    },
    {
      "cell_type": "code",
      "metadata": {
        "colab": {
          "base_uri": "https://localhost:8080/",
          "height": 37
        },
        "id": "edASYi9X53mt",
        "outputId": "a18eb17c-31b3-4c73-8f7e-883586fb7784"
      },
      "source": [
        "display(Math('10^{x-4} = %g' %(10**(x-4))))"
      ],
      "execution_count": 11,
      "outputs": [
        {
          "output_type": "display_data",
          "data": {
            "text/latex": "$$10^{x-4} = 10$$",
            "text/plain": [
              "<IPython.core.display.Math object>"
            ]
          },
          "metadata": {
            "tags": []
          }
        }
      ]
    },
    {
      "cell_type": "markdown",
      "metadata": {
        "id": "FaikQjK86f53"
      },
      "source": [
        "# For Loops"
      ]
    },
    {
      "cell_type": "code",
      "metadata": {
        "colab": {
          "base_uri": "https://localhost:8080/"
        },
        "id": "9fT6Sf7n6mXh",
        "outputId": "07e991c4-161c-4deb-d710-6be06aa8824e"
      },
      "source": [
        "for i in range(0, 11):\n",
        "  print(i)"
      ],
      "execution_count": 14,
      "outputs": [
        {
          "output_type": "stream",
          "text": [
            "0\n",
            "1\n",
            "2\n",
            "3\n",
            "4\n",
            "5\n",
            "6\n",
            "7\n",
            "8\n",
            "9\n",
            "10\n"
          ],
          "name": "stdout"
        }
      ]
    },
    {
      "cell_type": "code",
      "metadata": {
        "colab": {
          "base_uri": "https://localhost:8080/"
        },
        "id": "V8uyg26l8lMi",
        "outputId": "f48589a1-2069-4b02-8197-56f5a4fca160"
      },
      "source": [
        "for i in range(0, 10):\n",
        "  ans = 2**i\n",
        "  print('2 to the power %g = %g' %(i,ans))"
      ],
      "execution_count": 15,
      "outputs": [
        {
          "output_type": "stream",
          "text": [
            "2 to the power 0 = 1\n",
            "2 to the power 1 = 2\n",
            "2 to the power 2 = 4\n",
            "2 to the power 3 = 8\n",
            "2 to the power 4 = 16\n",
            "2 to the power 5 = 32\n",
            "2 to the power 6 = 64\n",
            "2 to the power 7 = 128\n",
            "2 to the power 8 = 256\n",
            "2 to the power 9 = 512\n"
          ],
          "name": "stdout"
        }
      ]
    },
    {
      "cell_type": "code",
      "metadata": {
        "colab": {
          "base_uri": "https://localhost:8080/"
        },
        "id": "sU89SPEtK9-8",
        "outputId": "12bf9765-0ce3-4966-f419-e1b2e581e5dc"
      },
      "source": [
        "testBool = 2 == 4 / 2\n",
        "print(testBool)\n",
        "print(b)\n",
        "print(type(b))"
      ],
      "execution_count": 24,
      "outputs": [
        {
          "output_type": "stream",
          "text": [
            "True\n",
            "False\n",
            "<class 'bool'>\n"
          ],
          "name": "stdout"
        }
      ]
    },
    {
      "cell_type": "code",
      "metadata": {
        "colab": {
          "base_uri": "https://localhost:8080/",
          "height": 55
        },
        "id": "zuYpV4PILrx6",
        "outputId": "9ca540cb-bc79-4458-dd45-a1a62f6faebf"
      },
      "source": [
        "x = 3\n",
        "isTrue = (4 * x + 3) < (17 - x**2)\n",
        "print(isTrue)\n",
        "display(Math('4x + 3 < 17 - x^2 : %g' %isTrue))"
      ],
      "execution_count": 31,
      "outputs": [
        {
          "output_type": "stream",
          "text": [
            "False\n"
          ],
          "name": "stdout"
        },
        {
          "output_type": "display_data",
          "data": {
            "text/latex": "$$4x + 3 < 17 - x^2 : 0$$",
            "text/plain": [
              "<IPython.core.display.Math object>"
            ]
          },
          "metadata": {
            "tags": []
          }
        }
      ]
    },
    {
      "cell_type": "code",
      "metadata": {
        "colab": {
          "base_uri": "https://localhost:8080/"
        },
        "id": "aXwzLIfFMvS9",
        "outputId": "52948db0-7239-4960-a409-adf046bc5bcb"
      },
      "source": [
        "x = 5\n",
        "\n",
        "if x < 10:\n",
        "  print('%g is less than 10' %x)\n",
        "elif x > 10:\n",
        "  print('%g is greater than 10' %xmode) \n",
        "else:\n",
        "  print('%g is invalid' %x)"
      ],
      "execution_count": 33,
      "outputs": [
        {
          "output_type": "stream",
          "text": [
            "5 is less than 10\n"
          ],
          "name": "stdout"
        }
      ]
    },
    {
      "cell_type": "code",
      "metadata": {
        "colab": {
          "base_uri": "https://localhost:8080/",
          "height": 257
        },
        "id": "CYPD647zNL6g",
        "outputId": "870c1132-41d1-44b1-a203-09c209b4dac1"
      },
      "source": [
        "for i in range(0, 4):\n",
        "  if i > 0:\n",
        "    for j in range(0, 5):\n",
        "      if j > 0:\n",
        "        ans = i**(-j)\n",
        "        display(Math('%g^{-%g} = %g' %(i, j, ans)))"
      ],
      "execution_count": 34,
      "outputs": [
        {
          "output_type": "display_data",
          "data": {
            "text/latex": "$$1^{-1} = 1$$",
            "text/plain": [
              "<IPython.core.display.Math object>"
            ]
          },
          "metadata": {
            "tags": []
          }
        },
        {
          "output_type": "display_data",
          "data": {
            "text/latex": "$$1^{-2} = 1$$",
            "text/plain": [
              "<IPython.core.display.Math object>"
            ]
          },
          "metadata": {
            "tags": []
          }
        },
        {
          "output_type": "display_data",
          "data": {
            "text/latex": "$$1^{-3} = 1$$",
            "text/plain": [
              "<IPython.core.display.Math object>"
            ]
          },
          "metadata": {
            "tags": []
          }
        },
        {
          "output_type": "display_data",
          "data": {
            "text/latex": "$$1^{-4} = 1$$",
            "text/plain": [
              "<IPython.core.display.Math object>"
            ]
          },
          "metadata": {
            "tags": []
          }
        },
        {
          "output_type": "display_data",
          "data": {
            "text/latex": "$$2^{-1} = 0.5$$",
            "text/plain": [
              "<IPython.core.display.Math object>"
            ]
          },
          "metadata": {
            "tags": []
          }
        },
        {
          "output_type": "display_data",
          "data": {
            "text/latex": "$$2^{-2} = 0.25$$",
            "text/plain": [
              "<IPython.core.display.Math object>"
            ]
          },
          "metadata": {
            "tags": []
          }
        },
        {
          "output_type": "display_data",
          "data": {
            "text/latex": "$$2^{-3} = 0.125$$",
            "text/plain": [
              "<IPython.core.display.Math object>"
            ]
          },
          "metadata": {
            "tags": []
          }
        },
        {
          "output_type": "display_data",
          "data": {
            "text/latex": "$$2^{-4} = 0.0625$$",
            "text/plain": [
              "<IPython.core.display.Math object>"
            ]
          },
          "metadata": {
            "tags": []
          }
        },
        {
          "output_type": "display_data",
          "data": {
            "text/latex": "$$3^{-1} = 0.333333$$",
            "text/plain": [
              "<IPython.core.display.Math object>"
            ]
          },
          "metadata": {
            "tags": []
          }
        },
        {
          "output_type": "display_data",
          "data": {
            "text/latex": "$$3^{-2} = 0.111111$$",
            "text/plain": [
              "<IPython.core.display.Math object>"
            ]
          },
          "metadata": {
            "tags": []
          }
        },
        {
          "output_type": "display_data",
          "data": {
            "text/latex": "$$3^{-3} = 0.037037$$",
            "text/plain": [
              "<IPython.core.display.Math object>"
            ]
          },
          "metadata": {
            "tags": []
          }
        },
        {
          "output_type": "display_data",
          "data": {
            "text/latex": "$$3^{-4} = 0.0123457$$",
            "text/plain": [
              "<IPython.core.display.Math object>"
            ]
          },
          "metadata": {
            "tags": []
          }
        }
      ]
    },
    {
      "cell_type": "code",
      "metadata": {
        "colab": {
          "base_uri": "https://localhost:8080/",
          "height": 37
        },
        "id": "jojJCusyPDxS",
        "outputId": "2243d186-ff98-49fd-88c5-8382eaa1d0c0"
      },
      "source": [
        "x = -4.65\n",
        "\n",
        "display(Math('|%g| = %g' %(x, abs(x))))"
      ],
      "execution_count": 35,
      "outputs": [
        {
          "output_type": "display_data",
          "data": {
            "text/latex": "$$|-4.65| = 4.65$$",
            "text/plain": [
              "<IPython.core.display.Math object>"
            ]
          },
          "metadata": {
            "tags": []
          }
        }
      ]
    },
    {
      "cell_type": "code",
      "metadata": {
        "colab": {
          "base_uri": "https://localhost:8080/",
          "height": 145
        },
        "id": "nhKQkdaUPifa",
        "outputId": "de6590cd-f65e-4c27-fa2b-2688a04b3a43"
      },
      "source": [
        "numArr = [-4, 6, -1, 43, -18, 2, 0]\n",
        "\n",
        "# iterate over array\n",
        "for num in numArr:\n",
        "  if num < -5 or num > 2:\n",
        "    display(Math('|%g| = %g' %(num, abs(num))))\n",
        "  else:\n",
        "    print(str(num) + ' was not tested')\n"
      ],
      "execution_count": 38,
      "outputs": [
        {
          "output_type": "stream",
          "text": [
            "-4 was not tested\n"
          ],
          "name": "stdout"
        },
        {
          "output_type": "display_data",
          "data": {
            "text/latex": "$$|6| = 6$$",
            "text/plain": [
              "<IPython.core.display.Math object>"
            ]
          },
          "metadata": {
            "tags": []
          }
        },
        {
          "output_type": "stream",
          "text": [
            "-1 was not tested\n"
          ],
          "name": "stdout"
        },
        {
          "output_type": "display_data",
          "data": {
            "text/latex": "$$|43| = 43$$",
            "text/plain": [
              "<IPython.core.display.Math object>"
            ]
          },
          "metadata": {
            "tags": []
          }
        },
        {
          "output_type": "display_data",
          "data": {
            "text/latex": "$$|-18| = 18$$",
            "text/plain": [
              "<IPython.core.display.Math object>"
            ]
          },
          "metadata": {
            "tags": []
          }
        },
        {
          "output_type": "stream",
          "text": [
            "2 was not tested\n",
            "0 was not tested\n"
          ],
          "name": "stdout"
        }
      ]
    },
    {
      "cell_type": "code",
      "metadata": {
        "colab": {
          "base_uri": "https://localhost:8080/"
        },
        "id": "XMkEEWhaSCSO",
        "outputId": "519b545d-a569-4644-bdad-7ca289611208"
      },
      "source": [
        "for i in range(-5, 6):\n",
        "  if i % 2 == 0:\n",
        "    if abs(i) == i:\n",
        "      print(' %g is an even number' %i)\n",
        "    else: \n",
        "      print('%g is an even number' %i)\n",
        "  elif i % 2 != 0:\n",
        "    if abs(i) == i:\n",
        "      print(' %g is an odd  number' %i)\n",
        "    else: \n",
        "      print('%g is an odd  number' %i)"
      ],
      "execution_count": 39,
      "outputs": [
        {
          "output_type": "stream",
          "text": [
            "-5 is an odd  number\n",
            "-4 is an even number\n",
            "-3 is an odd  number\n",
            "-2 is an even number\n",
            "-1 is an odd  number\n",
            " 0 is an even number\n",
            " 1 is an odd  number\n",
            " 2 is an even number\n",
            " 3 is an odd  number\n",
            " 4 is an even number\n",
            " 5 is an odd  number\n"
          ],
          "name": "stdout"
        }
      ]
    },
    {
      "cell_type": "code",
      "metadata": {
        "colab": {
          "base_uri": "https://localhost:8080/"
        },
        "id": "ZmHBjp6PT6Im",
        "outputId": "b493c8d9-5e31-4bf7-a4cc-99a14eff4f78"
      },
      "source": [
        "def myFunction(name):\n",
        "  print('Hello %s!' %name)\n",
        "\n",
        "myFunction('Afras')"
      ],
      "execution_count": 42,
      "outputs": [
        {
          "output_type": "stream",
          "text": [
            "Hello Afras!\n"
          ],
          "name": "stdout"
        }
      ]
    }
  ]
}